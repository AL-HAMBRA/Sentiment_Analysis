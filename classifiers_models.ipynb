{
 "cells": [
  {
   "cell_type": "code",
   "execution_count": 8,
   "metadata": {
    "collapsed": true
   },
   "outputs": [],
   "source": [
    "import sklearn\n",
    "from sklearn.linear_model import LogisticRegression\n",
    "import numpy as np\n",
    "import pickle\n",
    "\n",
    "\n",
    "def precision(Y, Ypred):\n",
    "    return np.sum((Y == Ypred).astype(int)) / float(len(Y))\n",
    "rep = \"./\""
   ]
  },
  {
   "cell_type": "code",
   "execution_count": 33,
   "metadata": {
    "collapsed": false
   },
   "outputs": [],
   "source": [
    "k=0.1\n",
    "\n",
    "X_train_doc2vec = pickle.load(open(rep + \"X_train_doc2vec.pickle\", \"rb\"))\n",
    "X_train_tfidf_01 = pickle.load(open(rep + \"X_train_tfidf\"+ str(k) + \".pickle\", \"rb\"))\n",
    "X_train_doc2vec_tfidf_01 = pickle.load(open(rep + \"X_train_doc2vec_tfidf\" + str(k) +\".pickle\", \"rb\"))\n",
    "\n",
    "Y_train = pickle.load(open(rep + \"Y_train.pickle\", \"rb\"))\n",
    "\n",
    "X_test_doc2vec = pickle.load(open(rep + \"X_test_doc2vec.pickle\", \"rb\"))\n",
    "X_test_tfidf_01 = pickle.load(open(rep + \"X_test_tfidf\" + str(k) + \".pickle\", \"rb\"))\n",
    "Y_test = pickle.load(open(rep + \"Y_test.pickle\", \"rb\"))"
   ]
  },
  {
   "cell_type": "markdown",
   "metadata": {},
   "source": [
    "# Doc2vec model"
   ]
  },
  {
   "cell_type": "markdown",
   "metadata": {},
   "source": [
    "## Logistic regression"
   ]
  },
  {
   "cell_type": "code",
   "execution_count": 28,
   "metadata": {
    "collapsed": false
   },
   "outputs": [
    {
     "name": "stdout",
     "output_type": "stream",
     "text": [
      "[[ 0.  0.  0. ...,  0.  0.  0.]\n",
      " [ 0.  0.  0. ...,  0.  0.  0.]\n",
      " [ 0.  0.  0. ...,  0.  0.  0.]\n",
      " ..., \n",
      " [ 0.  0.  0. ...,  0.  0.  0.]\n",
      " [ 0.  0.  0. ...,  0.  0.  0.]\n",
      " [ 0.  0.  0. ...,  0.  0.  0.]]\n"
     ]
    }
   ],
   "source": [
    "print (X_train_tfidf_01)"
   ]
  },
  {
   "cell_type": "code",
   "execution_count": 35,
   "metadata": {
    "collapsed": false
   },
   "outputs": [
    {
     "data": {
      "text/plain": [
       "array([  0.00000000e+00,   1.72900436e-04,   2.02977815e-04, ...,\n",
       "         4.43900578e-01,   5.13028266e-01,   5.74799254e-01])"
      ]
     },
     "execution_count": 35,
     "metadata": {},
     "output_type": "execute_result"
    }
   ],
   "source": [
    "np.unique(X_train_tfidf_01)"
   ]
  },
  {
   "cell_type": "code",
   "execution_count": 34,
   "metadata": {
    "collapsed": false
   },
   "outputs": [
    {
     "name": "stdout",
     "output_type": "stream",
     "text": [
      "[ 0.  1.]\n"
     ]
    }
   ],
   "source": [
    "print(np.unique(Y_test))"
   ]
  },
  {
   "cell_type": "code",
   "execution_count": 5,
   "metadata": {
    "collapsed": false
   },
   "outputs": [
    {
     "name": "stdout",
     "output_type": "stream",
     "text": [
      "score :  0.99944\n"
     ]
    }
   ],
   "source": [
    "clf = LogisticRegression()\n",
    "\n",
    "clf.fit(X_train_doc2vec, Y_train)\n",
    "\n",
    "predict = clf.predict(X_test_doc2vec)\n",
    "\n",
    "\n",
    "score = precision(Y_test, predict)\n",
    "\n",
    "print (\"score : \", score)"
   ]
  },
  {
   "cell_type": "code",
   "execution_count": null,
   "metadata": {
    "collapsed": true
   },
   "outputs": [],
   "source": []
  },
  {
   "cell_type": "markdown",
   "metadata": {},
   "source": [
    "# TFIDF model"
   ]
  },
  {
   "cell_type": "markdown",
   "metadata": {},
   "source": [
    "## Logistic regression"
   ]
  },
  {
   "cell_type": "code",
   "execution_count": 36,
   "metadata": {
    "collapsed": false
   },
   "outputs": [
    {
     "name": "stdout",
     "output_type": "stream",
     "text": [
      "score :  0.84936\n"
     ]
    }
   ],
   "source": [
    "clf = LogisticRegression()\n",
    "\n",
    "clf.fit(X_train_tfidf_01, Y_train)\n",
    "\n",
    "predict = clf.predict(X_test_tfidf_01)\n",
    "\n",
    "score = precision(Y_test, predict)\n",
    "\n",
    "print (\"score : \", score)"
   ]
  }
 ],
 "metadata": {
  "kernelspec": {
   "display_name": "Python 3",
   "language": "python",
   "name": "python3"
  },
  "language_info": {
   "codemirror_mode": {
    "name": "ipython",
    "version": 3
   },
   "file_extension": ".py",
   "mimetype": "text/x-python",
   "name": "python",
   "nbconvert_exporter": "python",
   "pygments_lexer": "ipython3",
   "version": "3.5.2"
  }
 },
 "nbformat": 4,
 "nbformat_minor": 0
}
