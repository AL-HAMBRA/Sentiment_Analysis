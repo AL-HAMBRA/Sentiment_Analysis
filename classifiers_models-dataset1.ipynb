{
 "cells": [
  {
   "cell_type": "code",
   "execution_count": 2,
   "metadata": {
    "collapsed": true
   },
   "outputs": [],
   "source": [
    "import sklearn\n",
    "from sklearn.linear_model import LogisticRegression\n",
    "import numpy as np\n",
    "import pickle\n",
    "\n",
    "\n",
    "def precision(Y, Ypred):\n",
    "    return np.sum((Y == Ypred).astype(int)) / float(len(Y))\n",
    "rep = \"./\"\n",
    "rep_pickle = \"dataset1_pickle/\""
   ]
  },
  {
   "cell_type": "code",
   "execution_count": 6,
   "metadata": {
    "collapsed": false
   },
   "outputs": [],
   "source": [
    "k=0.1\n",
    "\n",
    "X_train_doc2vec = pickle.load(open(rep_pickle + \"X_train_doc2vec.pickle\", \"rb\"))\n",
    "X_train_tfidf_01 = pickle.load(open(rep_pickle + \"X_train_tfidf\"+ str(k) + \".pickle\", \"rb\"))\n",
    "X_train_tfidf_sentiwordnet_01 = pickle.load(open(rep_pickle + \"X_train_tfidf_sentiwordnet\"+ str(k) + \".pickle\", \"rb\"))\n",
    "X_train_freq = pickle.load(open(rep_pickle + \"X_train_freq\"+str(k) + \".pickle\", \"rb\"))\n",
    "X_train_doc2vec_tfidf_01 = pickle.load(open(rep_pickle + \"X_train_doc2vec_tfidf\" + str(k) +\".pickle\", \"rb\"))\n",
    "Y_train = pickle.load(open(rep_pickle + \"Y_train.pickle\", \"rb\"))\n",
    "\n",
    "X_test_doc2vec = pickle.load(open(rep_pickle + \"X_test_doc2vec.pickle\", \"rb\"))\n",
    "X_test_tfidf_01 = pickle.load(open(rep_pickle + \"X_test_tfidf\" + str(k) + \".pickle\", \"rb\"))\n",
    "X_test_tfidf_sentiwordnet_01 = pickle.load(open(rep_pickle + \"X_test_tfidf_sentiwordnet\"+ str(k) + \".pickle\", \"rb\"))\n",
    "X_test_freq = pickle.load(open(rep_pickle + \"X_test_freq\"+str(k) + \".pickle\", \"rb\"))\n",
    "Y_test = pickle.load(open(rep_pickle + \"Y_test.pickle\", \"rb\"))"
   ]
  },
  {
   "cell_type": "markdown",
   "metadata": {},
   "source": [
    "# Doc2vec model"
   ]
  },
  {
   "cell_type": "markdown",
   "metadata": {},
   "source": [
    "## Logistic regression"
   ]
  },
  {
   "cell_type": "code",
   "execution_count": 54,
   "metadata": {
    "collapsed": false
   },
   "outputs": [
    {
     "name": "stdout",
     "output_type": "stream",
     "text": [
      "(8529, 1955)\n"
     ]
    }
   ],
   "source": [
    "print (X_train_doc2vec)"
   ]
  },
  {
   "cell_type": "code",
   "execution_count": 50,
   "metadata": {
    "collapsed": false
   },
   "outputs": [
    {
     "data": {
      "text/plain": [
       "(8529,)"
      ]
     },
     "execution_count": 50,
     "metadata": {},
     "output_type": "execute_result"
    }
   ],
   "source": [
    "Y_train.shape"
   ]
  },
  {
   "cell_type": "code",
   "execution_count": 29,
   "metadata": {
    "collapsed": false
   },
   "outputs": [
    {
     "data": {
      "text/plain": [
       "4283"
      ]
     },
     "execution_count": 29,
     "metadata": {},
     "output_type": "execute_result"
    }
   ],
   "source": [
    "np.count_nonzero(Y_train)"
   ]
  },
  {
   "cell_type": "code",
   "execution_count": 18,
   "metadata": {
    "collapsed": false
   },
   "outputs": [
    {
     "name": "stderr",
     "output_type": "stream",
     "text": [
      "D:\\Program Files\\Anaconda3\\lib\\site-packages\\ipykernel\\__main__.py:1: DeprecationWarning: elementwise == comparison failed; this will raise an error in the future.\n",
      "  if __name__ == '__main__':\n"
     ]
    },
    {
     "data": {
      "text/plain": [
       "False"
      ]
     },
     "execution_count": 18,
     "metadata": {},
     "output_type": "execute_result"
    }
   ],
   "source": [
    "(X_train_doc2vec == X_test_doc2vec)"
   ]
  },
  {
   "cell_type": "code",
   "execution_count": 57,
   "metadata": {
    "collapsed": false
   },
   "outputs": [
    {
     "name": "stdout",
     "output_type": "stream",
     "text": [
      "score :  0.990154711674\n"
     ]
    }
   ],
   "source": [
    "clf = LogisticRegression()\n",
    "\n",
    "clf.fit(X_train_doc2vec, Y_train)\n",
    "\n",
    "predict = clf.predict(X_test_doc2vec)\n",
    "\n",
    "\n",
    "score = precision(Y_test, predict)\n",
    "\n",
    "print (\"score : \", score)"
   ]
  },
  {
   "cell_type": "code",
   "execution_count": null,
   "metadata": {
    "collapsed": true
   },
   "outputs": [],
   "source": []
  },
  {
   "cell_type": "markdown",
   "metadata": {},
   "source": [
    "# TFIDF model"
   ]
  },
  {
   "cell_type": "markdown",
   "metadata": {},
   "source": [
    "## Logistic regression"
   ]
  },
  {
   "cell_type": "code",
   "execution_count": 9,
   "metadata": {
    "collapsed": false
   },
   "outputs": [
    {
     "name": "stdout",
     "output_type": "stream",
     "text": [
      "score :  0.778715424285\n"
     ]
    }
   ],
   "source": [
    "clf = LogisticRegression()\n",
    "\n",
    "clf.fit(X_train_tfidf_01, Y_train)\n",
    "\n",
    "predict = clf.predict(X_test_tfidf_01)\n",
    "\n",
    "score = precision(Y_test, predict)\n",
    "\n",
    "print (\"score : \", score)"
   ]
  },
  {
   "cell_type": "markdown",
   "metadata": {},
   "source": [
    "## Random forest"
   ]
  },
  {
   "cell_type": "code",
   "execution_count": 61,
   "metadata": {
    "collapsed": false
   },
   "outputs": [
    {
     "name": "stdout",
     "output_type": "stream",
     "text": [
      "score :  0.681200187529\n"
     ]
    }
   ],
   "source": [
    "from sklearn.ensemble import RandomForestClassifier\n",
    "\n",
    "clf = RandomForestClassifier(n_estimators=10)\n",
    "\n",
    "clf.fit(X_train_tfidf_01, Y_train)\n",
    "\n",
    "predict = clf.predict(X_test_tfidf_01)\n",
    "\n",
    "score = precision(Y_test, predict)\n",
    "\n",
    "print (\"score : \", score)"
   ]
  },
  {
   "cell_type": "markdown",
   "metadata": {},
   "source": [
    "## Gradient boosting"
   ]
  },
  {
   "cell_type": "code",
   "execution_count": null,
   "metadata": {
    "collapsed": false
   },
   "outputs": [],
   "source": [
    "from sklearn.ensemble import GradientBoostingClassifier\n",
    "\n",
    "clf = GradientBoostingClassifier()\n",
    "\n",
    "clf.fit(X_train_tfidf_01, Y_train)\n",
    "\n",
    "predict = clf.predict(X_test_tfidf_01)\n",
    "\n",
    "score = precision(Y_test, predict)\n",
    "\n",
    "print (\"score : \", score)"
   ]
  },
  {
   "cell_type": "markdown",
   "metadata": {},
   "source": [
    "## SVM"
   ]
  },
  {
   "cell_type": "code",
   "execution_count": 10,
   "metadata": {
    "collapsed": false
   },
   "outputs": [
    {
     "name": "stdout",
     "output_type": "stream",
     "text": [
      "score :  0.491326769808\n"
     ]
    }
   ],
   "source": [
    "from sklearn.svm import SVC\n",
    "\n",
    "clf = SVC(kernel='rbf', C=1.0, gamma='auto')\n",
    "\n",
    "clf.fit(X_train_tfidf_01, Y_train)\n",
    "\n",
    "predict = clf.predict(X_test_tfidf_01)\n",
    "\n",
    "score = precision(Y_test, predict)\n",
    "\n",
    "print (\"score : \", score)"
   ]
  },
  {
   "cell_type": "markdown",
   "metadata": {},
   "source": [
    "## MLP Classifier"
   ]
  },
  {
   "cell_type": "code",
   "execution_count": 67,
   "metadata": {
    "collapsed": false
   },
   "outputs": [
    {
     "name": "stdout",
     "output_type": "stream",
     "text": [
      "score :  0.800281293952\n"
     ]
    }
   ],
   "source": [
    "from sklearn.neural_network import MLPClassifier\n",
    "\n",
    "clf = MLPClassifier(hidden_layer_sizes=(100,100, 100), activation='relu')\n",
    "\n",
    "clf.fit(X_train_tfidf_01, Y_train)\n",
    "\n",
    "predict = clf.predict(X_test_tfidf_01)\n",
    "\n",
    "score = precision(Y_test, predict)\n",
    "\n",
    "print (\"score : \", score)"
   ]
  },
  {
   "cell_type": "markdown",
   "metadata": {},
   "source": [
    "# TFIDF + Sentiwordnet"
   ]
  },
  {
   "cell_type": "markdown",
   "metadata": {},
   "source": [
    "## Logistic regression"
   ]
  },
  {
   "cell_type": "code",
   "execution_count": 8,
   "metadata": {
    "collapsed": false
   },
   "outputs": [
    {
     "name": "stdout",
     "output_type": "stream",
     "text": [
      "score :  0.776840131271\n"
     ]
    }
   ],
   "source": [
    "clf = LogisticRegression()\n",
    "\n",
    "clf.fit(X_train_tfidf_sentiwordnet_01, Y_train)\n",
    "\n",
    "predict = clf.predict(X_test_tfidf_sentiwordnet_01)\n",
    "\n",
    "score = precision(Y_test, predict)\n",
    "\n",
    "print (\"score : \", score)"
   ]
  },
  {
   "cell_type": "markdown",
   "metadata": {},
   "source": [
    "## Random forest"
   ]
  },
  {
   "cell_type": "code",
   "execution_count": 60,
   "metadata": {
    "collapsed": false
   },
   "outputs": [
    {
     "name": "stdout",
     "output_type": "stream",
     "text": [
      "score :  0.669010782935\n"
     ]
    }
   ],
   "source": [
    "from sklearn.ensemble import RandomForestClassifier\n",
    "\n",
    "clf = RandomForestClassifier(n_estimators=10)\n",
    "\n",
    "clf.fit(X_train_tfidf_sentiwordnet_01, Y_train)\n",
    "\n",
    "predict = clf.predict(X_test_tfidf_sentiwordnet_01)\n",
    "\n",
    "score = precision(Y_test, predict)\n",
    "\n",
    "print (\"score : \", score)"
   ]
  },
  {
   "cell_type": "markdown",
   "metadata": {},
   "source": [
    "## MLP Classifier"
   ]
  },
  {
   "cell_type": "code",
   "execution_count": 63,
   "metadata": {
    "collapsed": false
   },
   "outputs": [
    {
     "name": "stdout",
     "output_type": "stream",
     "text": [
      "score :  0.809188935771\n"
     ]
    }
   ],
   "source": [
    "from sklearn.neural_network import MLPClassifier\n",
    "\n",
    "clf = MLPClassifier(hidden_layer_sizes=(100,100, 100), activation='relu')\n",
    "\n",
    "clf.fit(X_train_tfidf_sentiwordnet_01, Y_train)\n",
    "\n",
    "predict = clf.predict(X_test_tfidf_sentiwordnet_01)\n",
    "\n",
    "score = precision(Y_test, predict)\n",
    "\n",
    "print (\"score : \", score)"
   ]
  },
  {
   "cell_type": "markdown",
   "metadata": {},
   "source": [
    "# MODEL FREQ"
   ]
  },
  {
   "cell_type": "markdown",
   "metadata": {},
   "source": [
    "## Logistic regression"
   ]
  },
  {
   "cell_type": "code",
   "execution_count": 5,
   "metadata": {
    "collapsed": false
   },
   "outputs": [
    {
     "data": {
      "text/plain": [
       "(8529,)"
      ]
     },
     "execution_count": 5,
     "metadata": {},
     "output_type": "execute_result"
    }
   ],
   "source": [
    "X_train_freq.shape"
   ]
  },
  {
   "cell_type": "code",
   "execution_count": 7,
   "metadata": {
    "collapsed": false
   },
   "outputs": [
    {
     "name": "stdout",
     "output_type": "stream",
     "text": [
      "score :  0.799812470699\n"
     ]
    }
   ],
   "source": [
    "clf = LogisticRegression()\n",
    "\n",
    "clf.fit(X_train_freq, Y_train)\n",
    "\n",
    "predict = clf.predict(X_test_freq)\n",
    "\n",
    "score = precision(Y_test, predict)\n",
    "\n",
    "print (\"score : \", score)"
   ]
  },
  {
   "cell_type": "code",
   "execution_count": 10,
   "metadata": {
    "collapsed": false
   },
   "outputs": [
    {
     "name": "stdout",
     "output_type": "stream",
     "text": [
      "score :  0.691514299109\n"
     ]
    }
   ],
   "source": [
    "from sklearn.ensemble import RandomForestClassifier\n",
    "\n",
    "clf = RandomForestClassifier(n_estimators=10)\n",
    "\n",
    "clf.fit(X_train_freq, Y_train)\n",
    "\n",
    "predict = clf.predict(X_test_freq)\n",
    "\n",
    "score = precision(Y_test, predict)\n",
    "\n",
    "print (\"score : \", score)"
   ]
  }
 ],
 "metadata": {
  "kernelspec": {
   "display_name": "Python 3",
   "language": "python",
   "name": "python3"
  },
  "language_info": {
   "codemirror_mode": {
    "name": "ipython",
    "version": 3
   },
   "file_extension": ".py",
   "mimetype": "text/x-python",
   "name": "python",
   "nbconvert_exporter": "python",
   "pygments_lexer": "ipython3",
   "version": "3.5.2"
  }
 },
 "nbformat": 4,
 "nbformat_minor": 0
}
