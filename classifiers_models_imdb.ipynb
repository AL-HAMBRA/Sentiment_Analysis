{
 "cells": [
  {
   "cell_type": "code",
   "execution_count": 1,
   "metadata": {
    "collapsed": true
   },
   "outputs": [],
   "source": [
    "import sklearn\n",
    "from sklearn.linear_model import LogisticRegression\n",
    "import numpy as np\n",
    "import pickle\n",
    "\n",
    "\n",
    "def precision(Y, Ypred):\n",
    "    return np.sum((Y == Ypred).astype(int)) / float(len(Y))\n",
    "rep = \"./\"\n",
    "rep_pickle = \"imdb_pickle/\""
   ]
  },
  {
   "cell_type": "code",
   "execution_count": 3,
   "metadata": {
    "collapsed": false
   },
   "outputs": [
    {
     "ename": "EOFError",
     "evalue": "Ran out of input",
     "output_type": "error",
     "traceback": [
      "\u001b[1;31m---------------------------------------------------------------------------\u001b[0m",
      "\u001b[1;31mEOFError\u001b[0m                                  Traceback (most recent call last)",
      "\u001b[1;32m<ipython-input-3-515ccaff1b2c>\u001b[0m in \u001b[0;36m<module>\u001b[1;34m()\u001b[0m\n\u001b[0;32m      3\u001b[0m \u001b[0mX_train_doc2vec\u001b[0m \u001b[1;33m=\u001b[0m \u001b[0mpickle\u001b[0m\u001b[1;33m.\u001b[0m\u001b[0mload\u001b[0m\u001b[1;33m(\u001b[0m\u001b[0mopen\u001b[0m\u001b[1;33m(\u001b[0m\u001b[0mrep_pickle\u001b[0m \u001b[1;33m+\u001b[0m \u001b[1;34m\"X_train_doc2vec.pickle\"\u001b[0m\u001b[1;33m,\u001b[0m \u001b[1;34m\"rb\"\u001b[0m\u001b[1;33m)\u001b[0m\u001b[1;33m)\u001b[0m\u001b[1;33m\u001b[0m\u001b[0m\n\u001b[0;32m      4\u001b[0m \u001b[0mX_train_tfidf_01\u001b[0m \u001b[1;33m=\u001b[0m \u001b[0mpickle\u001b[0m\u001b[1;33m.\u001b[0m\u001b[0mload\u001b[0m\u001b[1;33m(\u001b[0m\u001b[0mopen\u001b[0m\u001b[1;33m(\u001b[0m\u001b[0mrep_pickle\u001b[0m \u001b[1;33m+\u001b[0m \u001b[1;34m\"X_train_tfidf\"\u001b[0m\u001b[1;33m+\u001b[0m \u001b[0mstr\u001b[0m\u001b[1;33m(\u001b[0m\u001b[0mk\u001b[0m\u001b[1;33m)\u001b[0m \u001b[1;33m+\u001b[0m \u001b[1;34m\".pickle\"\u001b[0m\u001b[1;33m,\u001b[0m \u001b[1;34m\"rb\"\u001b[0m\u001b[1;33m)\u001b[0m\u001b[1;33m)\u001b[0m\u001b[1;33m\u001b[0m\u001b[0m\n\u001b[1;32m----> 5\u001b[1;33m \u001b[0mX_train_doc2vec_tfidf_01\u001b[0m \u001b[1;33m=\u001b[0m \u001b[0mpickle\u001b[0m\u001b[1;33m.\u001b[0m\u001b[0mload\u001b[0m\u001b[1;33m(\u001b[0m\u001b[0mopen\u001b[0m\u001b[1;33m(\u001b[0m\u001b[0mrep_pickle\u001b[0m \u001b[1;33m+\u001b[0m \u001b[1;34m\"X_train_doc2vec_tfidf\"\u001b[0m \u001b[1;33m+\u001b[0m \u001b[0mstr\u001b[0m\u001b[1;33m(\u001b[0m\u001b[0mk\u001b[0m\u001b[1;33m)\u001b[0m \u001b[1;33m+\u001b[0m\u001b[1;34m\".pickle\"\u001b[0m\u001b[1;33m,\u001b[0m \u001b[1;34m\"rb\"\u001b[0m\u001b[1;33m)\u001b[0m\u001b[1;33m)\u001b[0m\u001b[1;33m\u001b[0m\u001b[0m\n\u001b[0m\u001b[0;32m      6\u001b[0m \u001b[1;33m\u001b[0m\u001b[0m\n\u001b[0;32m      7\u001b[0m \u001b[0mY_train\u001b[0m \u001b[1;33m=\u001b[0m \u001b[0mpickle\u001b[0m\u001b[1;33m.\u001b[0m\u001b[0mload\u001b[0m\u001b[1;33m(\u001b[0m\u001b[0mopen\u001b[0m\u001b[1;33m(\u001b[0m\u001b[0mrep_pickle\u001b[0m \u001b[1;33m+\u001b[0m \u001b[1;34m\"Y_train.pickle\"\u001b[0m\u001b[1;33m,\u001b[0m \u001b[1;34m\"rb\"\u001b[0m\u001b[1;33m)\u001b[0m\u001b[1;33m)\u001b[0m\u001b[1;33m\u001b[0m\u001b[0m\n",
      "\u001b[1;31mEOFError\u001b[0m: Ran out of input"
     ]
    }
   ],
   "source": [
    "k=0.1\n",
    "\n",
    "X_train_doc2vec = pickle.load(open(rep_pickle + \"X_train_doc2vec.pickle\", \"rb\"))\n",
    "X_train_tfidf_01 = pickle.load(open(rep_pickle + \"X_train_tfidf\"+ str(k) + \".pickle\", \"rb\"))\n",
    "X_train_doc2vec_tfidf_01 = pickle.load(open(rep_pickle + \"X_train_doc2vec_tfidf\" + str(k) +\".pickle\", \"rb\"))\n",
    "\n",
    "Y_train = pickle.load(open(rep_pickle + \"Y_train.pickle\", \"rb\"))\n",
    "\n",
    "X_test_doc2vec = pickle.load(open(rep_pickle + \"X_test_doc2vec.pickle\", \"rb\"))\n",
    "X_test_tfidf_01 = pickle.load(open(rep_pickle + \"X_test_tfidf\" + str(k) + \".pickle\", \"rb\"))\n",
    "Y_test = pickle.load(open(rep_pickle + \"Y_test.pickle\", \"rb\"))"
   ]
  },
  {
   "cell_type": "markdown",
   "metadata": {},
   "source": [
    "# Doc2vec model"
   ]
  },
  {
   "cell_type": "markdown",
   "metadata": {},
   "source": [
    "## Logistic regression"
   ]
  },
  {
   "cell_type": "code",
   "execution_count": 37,
   "metadata": {
    "collapsed": false
   },
   "outputs": [
    {
     "name": "stdout",
     "output_type": "stream",
     "text": [
      "[[  9.03483422e-04   1.16112956e-03  -3.72683047e-04 ...,  -3.92334914e-04\n",
      "   -6.71039219e-04  -9.46402957e-04]\n",
      " [ -5.42035268e-04   9.07119596e-04  -2.58380343e-04 ...,  -5.46487689e-04\n",
      "   -1.01999752e-03   2.10990460e-04]\n",
      " [ -1.20027713e-03  -1.19711354e-03  -3.50562797e-04 ...,   9.69162284e-05\n",
      "   -5.94838813e-04  -1.12551637e-03]\n",
      " ..., \n",
      " [  5.96636124e-02  -9.64804292e-01   3.50841236e+00 ...,   6.53678596e-01\n",
      "    4.12321001e-01  -5.21020710e-01]\n",
      " [  2.92825460e-01  -4.04594978e-03  -6.41366541e-01 ...,   1.29149818e+00\n",
      "    5.78634202e-01  -2.48532152e+00]\n",
      " [  8.26864541e-01   3.53059173e-01   1.74404472e-01 ...,  -7.63198018e-01\n",
      "    2.57511830e+00  -9.86404657e-01]]\n"
     ]
    }
   ],
   "source": [
    "print (X_train_doc2vec)"
   ]
  },
  {
   "cell_type": "code",
   "execution_count": 8,
   "metadata": {
    "collapsed": false
   },
   "outputs": [
    {
     "name": "stdout",
     "output_type": "stream",
     "text": [
      "[[  9.03483422e-04   1.16112956e-03  -3.72683047e-04 ...,  -3.92334914e-04\n",
      "   -6.71039219e-04  -9.46402957e-04]\n",
      " [ -5.42035268e-04   9.07119596e-04  -2.58380343e-04 ...,  -5.46487689e-04\n",
      "   -1.01999752e-03   2.10990460e-04]\n",
      " [ -1.20027713e-03  -1.19711354e-03  -3.50562797e-04 ...,   9.69162284e-05\n",
      "   -5.94838813e-04  -1.12551637e-03]\n",
      " ..., \n",
      " [ -8.10539603e-01   1.34152579e+00   2.61034036e+00 ...,   1.48322463e-01\n",
      "   -1.08089542e+00   1.22514367e+00]\n",
      " [  7.88362443e-01   4.11806017e-01   8.70207608e-01 ...,  -3.63085866e-01\n",
      "    2.31019640e+00   5.76076746e-01]\n",
      " [  2.19241023e+00   2.88376188e+00   1.10286021e+00 ...,   9.59050775e-01\n",
      "    1.78308189e+00  -1.30206093e-01]]\n"
     ]
    }
   ],
   "source": [
    "print(X_test_doc2vec)"
   ]
  },
  {
   "cell_type": "code",
   "execution_count": 34,
   "metadata": {
    "collapsed": false
   },
   "outputs": [
    {
     "data": {
      "text/plain": [
       "array([[ True,  True,  True, ...,  True,  True,  True],\n",
       "       [ True,  True,  True, ...,  True,  True,  True],\n",
       "       [ True,  True,  True, ...,  True,  True,  True],\n",
       "       ..., \n",
       "       [False, False, False, ..., False, False, False],\n",
       "       [False, False, False, ..., False, False, False],\n",
       "       [False, False, False, ..., False, False, False]], dtype=bool)"
      ]
     },
     "execution_count": 34,
     "metadata": {},
     "output_type": "execute_result"
    }
   ],
   "source": [
    "(X_train_doc2vec == X_test_doc2vec)"
   ]
  },
  {
   "cell_type": "code",
   "execution_count": 27,
   "metadata": {
    "collapsed": false
   },
   "outputs": [
    {
     "name": "stdout",
     "output_type": "stream",
     "text": [
      "score :  1.0\n"
     ]
    }
   ],
   "source": [
    "clf = LogisticRegression()\n",
    "\n",
    "clf.fit(X_train_doc2vec, Y_train)\n",
    "\n",
    "predict = clf.predict(X_test_doc2vec)\n",
    "\n",
    "\n",
    "score = precision(Y_test, predict)\n",
    "\n",
    "print (\"score : \", score)"
   ]
  },
  {
   "cell_type": "code",
   "execution_count": null,
   "metadata": {
    "collapsed": true
   },
   "outputs": [],
   "source": []
  },
  {
   "cell_type": "markdown",
   "metadata": {},
   "source": [
    "# TFIDF model"
   ]
  },
  {
   "cell_type": "markdown",
   "metadata": {},
   "source": [
    "## Logistic regression"
   ]
  },
  {
   "cell_type": "code",
   "execution_count": 3,
   "metadata": {
    "collapsed": false
   },
   "outputs": [
    {
     "name": "stdout",
     "output_type": "stream",
     "text": [
      "score :  0.84936\n"
     ]
    }
   ],
   "source": [
    "clf = LogisticRegression()\n",
    "\n",
    "clf.fit(X_train_tfidf_01, Y_train)\n",
    "\n",
    "predict = clf.predict(X_test_tfidf_01)\n",
    "\n",
    "score = precision(Y_test, predict)\n",
    "\n",
    "print (\"score : \", score)"
   ]
  },
  {
   "cell_type": "markdown",
   "metadata": {},
   "source": [
    "## Random forest"
   ]
  },
  {
   "cell_type": "code",
   "execution_count": 4,
   "metadata": {
    "collapsed": false
   },
   "outputs": [
    {
     "name": "stdout",
     "output_type": "stream",
     "text": [
      "score :  0.76756\n"
     ]
    }
   ],
   "source": [
    "from sklearn.ensemble import RandomForestClassifier\n",
    "\n",
    "clf = RandomForestClassifier(n_estimators=10)\n",
    "\n",
    "clf.fit(X_train_tfidf_01, Y_train)\n",
    "\n",
    "predict = clf.predict(X_test_tfidf_01)\n",
    "\n",
    "score = precision(Y_test, predict)\n",
    "\n",
    "print (\"score : \", score)"
   ]
  },
  {
   "cell_type": "markdown",
   "metadata": {},
   "source": [
    "## Gradient boosting"
   ]
  },
  {
   "cell_type": "code",
   "execution_count": null,
   "metadata": {
    "collapsed": false
   },
   "outputs": [],
   "source": [
    "from sklearn.ensemble import GradientBoostingClassifier\n",
    "\n",
    "clf = GradientBoostingClassifier()\n",
    "\n",
    "clf.fit(X_train_tfidf_01, Y_train)\n",
    "\n",
    "predict = clf.predict(X_test_tfidf_01)\n",
    "\n",
    "score = precision(Y_test, predict)\n",
    "\n",
    "print (\"score : \", score)"
   ]
  },
  {
   "cell_type": "markdown",
   "metadata": {},
   "source": [
    "## SVM"
   ]
  },
  {
   "cell_type": "code",
   "execution_count": null,
   "metadata": {
    "collapsed": false
   },
   "outputs": [],
   "source": [
    "from sklearn.model_selection import GridSearchCV\n",
    "param_grid = dict(gamma=2^-15, C=C_range)\n",
    "clf = GridSearchCV(clf, param_grid=param_grid, cv=crossVal)\n",
    "clg.fit(X_train_tfidf_01, Y_train)"
   ]
  },
  {
   "cell_type": "markdown",
   "metadata": {},
   "source": [
    "## MLP Classifier"
   ]
  },
  {
   "cell_type": "code",
   "execution_count": null,
   "metadata": {
    "collapsed": true
   },
   "outputs": [],
   "source": [
    "from sklearn.neural_network import MLPClassifier\n",
    "\n",
    "clf = MLPClassifier(hidden_layer_sizes=(100,100), activation='relu')\n",
    "\n",
    "clf.fit(X_train_tfidf_01, Y_train)\n",
    "\n",
    "predict = clf.predict(X_test_tfidf_01)\n",
    "\n",
    "score = precision(Y_test, predict)\n",
    "\n",
    "print (\"score : \", score)\n",
    "\n",
    "#82.928"
   ]
  }
 ],
 "metadata": {
  "kernelspec": {
   "display_name": "Python 3",
   "language": "python",
   "name": "python3"
  },
  "language_info": {
   "codemirror_mode": {
    "name": "ipython",
    "version": 3
   },
   "file_extension": ".py",
   "mimetype": "text/x-python",
   "name": "python",
   "nbconvert_exporter": "python",
   "pygments_lexer": "ipython3",
   "version": "3.5.2"
  }
 },
 "nbformat": 4,
 "nbformat_minor": 0
}
